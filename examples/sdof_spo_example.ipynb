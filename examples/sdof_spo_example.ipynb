{
 "cells": [
  {
   "cell_type": "markdown",
   "id": "e8e8e5af",
   "metadata": {},
   "source": [
    "# 0. Load Dependencies"
   ]
  },
  {
   "cell_type": "code",
   "execution_count": null,
   "id": "3cc731dc",
   "metadata": {},
   "outputs": [],
   "source": [
    "### Import the vulnerability toolkit library\n",
    "import sys\n",
    "repoDir = 'C:/Users/Moayad/Documents/GitHub/stickModel'\n",
    "sys.path.insert(1, f'{repoDir}')\n",
    "from calibration import stickModelCalibration\n",
    "from stickModel import stickModel\n",
    "from utils import *\n",
    "from units import *\n",
    "\n",
    "### Import other libraries\n",
    "import pandas as pd\n",
    "import numpy as np\n",
    "import matplotlib.pyplot as plt\n",
    "import time\n",
    "\n",
    "# Initialise the time\n",
    "start_time = time.time()"
   ]
  },
  {
   "cell_type": "markdown",
   "id": "99ee10fb",
   "metadata": {},
   "source": [
    "# 1. User Input"
   ]
  },
  {
   "cell_type": "code",
   "execution_count": null,
   "id": "31ce570f",
   "metadata": {},
   "outputs": [],
   "source": [
    "### Define Capacity Curves Directory\n",
    "capCurvesDir= f'{repoDir}/raw/ip-capacities'\n",
    "\n",
    "### Define Building Class\n",
    "currentBuildingClass='CR_LFINF+CDM+DUM_H4'\n",
    "\n",
    "### Define Transformation Factor\n",
    "gamma=1.33\n",
    "\n",
    "### Define Storey Height\n",
    "storeyHeight=2.8\n",
    "\n",
    "### Define Number of Stories (for single-degree-of-freedom systems, set nst = 1)\n",
    "nst = 1     # single-degree-of-freedom system\n",
    "\n",
    "### Define Mass (for single-degree-of-freedom systems in GEM database, set mass = 1.0 tonne)\n",
    "mass = 1.0  # single-degree-of-freedom system"
   ]
  },
  {
   "cell_type": "markdown",
   "id": "ff5d0f9b",
   "metadata": {},
   "source": [
    "# 2. Prepare the Model"
   ]
  },
  {
   "cell_type": "code",
   "execution_count": null,
   "id": "a49e5956",
   "metadata": {},
   "outputs": [],
   "source": [
    "### Import the equivalent SDOF capacity array \n",
    "# This is an array that contains the deformation (1st column) and the strength (2nd column) points. The toolkit requires non-zero\n",
    "# first entries, therefore if applicable, remove the initial zero rows. Else, the nonlinear material will be ill conditioned and \n",
    "# the kernel would exit when running OpenSees\n",
    "sdofCapArray = np.array(pd.read_csv(f'{capCurvesDir}/{currentBuildingClass}.csv', header = None))[1:,:]\n",
    "\n",
    "### Construct the height list (for single-degrees-of-freedom, the size of the list is 1x1)\n",
    "flh = [storeyHeight]*nst\n",
    "\n",
    "### Construct the mass list (for single-degrees-of-freedom, the size of the list is 1x1)\n",
    "flm = [mass]*nst\n",
    "\n",
    "### Extract the storey-strength deformation relationship\n",
    "rows, columns = np.shape(sdofCapArray)\n",
    "stD = np.zeros([nst,rows])\n",
    "stF = np.zeros([nst,rows])\n",
    "for i in range(nst):\n",
    "    # get the displacement or spectral displacement arrays at each storey (for sdof, only 1 row)\n",
    "    stF[i,:] = sdofCapArray[:,1].transpose()\n",
    "    # get the force or spectral acceleration arrays at each storey (for sdof, only 1 row)\n",
    "    stD[i,:] = sdofCapArray[:,0].transpose()"
   ]
  },
  {
   "cell_type": "markdown",
   "id": "02af8c01",
   "metadata": {},
   "source": [
    "# 3. Compile the Model and Run Static Pushover Analysis"
   ]
  },
  {
   "cell_type": "code",
   "execution_count": null,
   "id": "e4d28eec",
   "metadata": {},
   "outputs": [],
   "source": [
    "### Initialise the stickModel instance using the parameters defined in previous sections\n",
    "model = stickModel(nst,flh,flm,stD,stF,currentBuildingClass) # Build the model\n",
    "model.mdof_initialise()                                      # Initialise the domain\n",
    "model.mdof_nodes()                                           # Construct the nodes\n",
    "model.mdof_fixity()                                          # Set the boundary conditions \n",
    "model.mdof_loads()                                           # Assign the loads\n",
    "model.mdof_material()                                        # Assign the nonlinear storey material\n",
    "model.plot_model()                                           # Visualise the model                               \n",
    "model.do_gravity_analysis()                                  # Do gravity analysis\n",
    "T = model.do_modal_analysis(num_modes = 1)                   # Do modal analysis and get period of vibration\n",
    "\n",
    "# Ignore the warning: \"WARNING ZeroLength::setDomain(): Element 2000 has L= 2.8, which is greater than the tolerance\".\n",
    "# In fact, ZeroLength elements do function for non-zero lengths yet the warning is issued due to this non-conventional use.\n",
    "\n",
    "### Run static pushover analysis\n",
    "ref_disp = 0.01               # Define reference displacements, typically corresponds to yield point\n",
    "disp_scale_factor = 10        # Define displacement scaling factor, typically corresponds to target ductility \n",
    "push_dir = 1                  # Define pushover direction (options are: 1 for X, 2 for Y and 3 for Z)\n",
    "spo_disps, spo_rxn= model.do_spo_analysis(ref_disp,disp_scale_factor,push_dir)\n",
    "\n",
    "### Plot the comparison\n",
    "fig=plt.figure()\n",
    "# Plot the static pushover results\n",
    "plt.plot(spo_disps[:,-1],spo_rxn,label='Numerical model')\n",
    "# Plot the initial equivalent SDOF capacity curve definition\n",
    "plt.plot(sdofCapArray[:,0],sdofCapArray[:,1],label='Initial Cap Curve')\n",
    "plt.grid(visible=True, which='major')\n",
    "plt.grid(visible=True, which='minor')\n",
    "plt.xlabel('Spectral Displacement, Sd [m]')\n",
    "plt.ylabel('Spectral Acceleration, Sa [g]')\n",
    "plt.title('Comparison of Capacity Curves')\n",
    "plt.legend()"
   ]
  },
  {
   "cell_type": "code",
   "execution_count": null,
   "id": "6f3520d7",
   "metadata": {},
   "outputs": [],
   "source": [
    "# get the end time\n",
    "end_time = time.time()\n",
    "# get the execution time\n",
    "elapsed_time = end_time - start_time\n",
    "print('Execution time:', elapsed_time, 'seconds')"
   ]
  }
 ],
 "metadata": {
  "kernelspec": {
   "display_name": "Python 3 (ipykernel)",
   "language": "python",
   "name": "python3"
  },
  "language_info": {
   "codemirror_mode": {
    "name": "ipython",
    "version": 3
   },
   "file_extension": ".py",
   "mimetype": "text/x-python",
   "name": "python",
   "nbconvert_exporter": "python",
   "pygments_lexer": "ipython3",
   "version": "3.11.5"
  }
 },
 "nbformat": 4,
 "nbformat_minor": 5
}
